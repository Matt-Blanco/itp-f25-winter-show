{
 "cells": [
  {
   "cell_type": "markdown",
   "metadata": {},
   "source": [
    "## Cleaning"
   ]
  },
  {
   "cell_type": "code",
   "execution_count": 1,
   "metadata": {},
   "outputs": [],
   "source": [
    "import pandas as pd\n",
    "import numpy as np\n",
    "import matplotlib.pyplot as plt\n",
    "import plotly.express as px\n",
    "import nbformat\n",
    "from wordcloud import WordCloud\n",
    "from datetime import datetime\n",
    "from geopy.distance import geodesic"
   ]
  },
  {
   "cell_type": "code",
   "execution_count": 4,
   "metadata": {},
   "outputs": [],
   "source": [
    "# load raw data\n",
    "raw_df = pd.read_csv(\"./raw/biennale_submission_data_raw.csv\")\n",
    "countries_df = pd.read_csv(\"./geo/countries.csv\")"
   ]
  },
  {
   "cell_type": "code",
   "execution_count": 5,
   "metadata": {},
   "outputs": [],
   "source": [
    "# rename columns\n",
    "raw_df.columns = raw_df.columns.str.lower().str.replace(' ', '_').str.replace(':', '')\n",
    "raw_df.rename(columns={'parent_item_[h]': 'parent_item'}, inplace=True)\n",
    "raw_df.rename(columns={'hasparent_[h]': 'hasparent'}, inplace=True)\n",
    "raw_df.rename(columns={'late_(spontaneous)_flag': 'late_spontaneous_flag'}, inplace=True)\n",
    "raw_df.rename(columns={'project_dimensions_(square_meters)': 'project_dimensions_sqm'}, inplace=True)\n",
    "raw_df.rename(columns={'z_projects_-_tracking': 'z_projects_tracking'}, inplace=True)\n",
    "raw_df.rename(columns={'z_claire_&_gabriel_selection': 'z_claire_gabriel_selection'}, inplace=True)\n",
    "raw_df.rename(columns={'stage_2_project_title_': 'stage_2_project_title'}, inplace=True)\n",
    "raw_df.rename(columns={'stage_3--_exhibition_section': 'stage_3_exhibition_section'}, inplace=True)\n",
    "raw_df.rename(columns={'stage_3--_preferred_exhibition_strategy': 'stage_3_preferred_exhibition_strategy'}, inplace=True)\n",
    "raw_df.rename(columns={'project_area_of_focus_': 'project_area_of_focus'}, inplace=True)\n",
    "\n",
    "# lowercase keywords\n",
    "raw_df[\"relevant_exhibition_section\"] = raw_df[\"relevant_exhibition_section\"].str.lower()\n",
    "raw_df[\"personal_perspective\"] = raw_df[\"personal_perspective\"].str.lower()\n",
    "raw_df[\"stage_2_exhibition_section\"] = raw_df[\"stage_2_exhibition_section\"].str.lower()\n",
    "raw_df[\"stage_2_exhibition_section\"] = raw_df[\"stage_2_exhibition_section\"].str.lower()\n",
    "raw_df[\"geography_of_residence\"] = raw_df[\"geography_of_residence\"].str.lower()\n",
    "raw_df[\"primary_keywords\"] = raw_df[\"primary_keywords\"].str.lower()\n",
    "\n",
    "# clean values\n",
    "raw_df['personal_perspective'] = raw_df['personal_perspective'].replace({'transnational (immigrant, refugee, multicultural) perspective': 'transnational/immigrant/refugee/multicultural perspective'})\n",
    "raw_df['invited_as'] = raw_df['invited_as'].replace(['NO', '[do not send an invitation or rejection]'], np.nan)\n"
   ]
  },
  {
   "cell_type": "code",
   "execution_count": 6,
   "metadata": {},
   "outputs": [],
   "source": [
    "# convert to dictionary for fast lookups\n",
    "country_to_lat = dict(zip(countries_df[\"name\"].str.lower(), countries_df[\"lat\"]))\n",
    "country_to_long = dict(zip(countries_df[\"name\"].str.lower(), countries_df[\"lon\"]))\n",
    "# lookup lat/lon\n",
    "raw_df[\"geo_lat\"] = raw_df[\"geography_of_residence\"].map(country_to_lat)\n",
    "raw_df[\"geo_lon\"] = raw_df[\"geography_of_residence\"].map(country_to_long)\n",
    "# distance\n",
    "venice = {\"lat\": 45.438759, \"lon\":12.327145}\n",
    "raw_df[\"distance_km\"] = raw_df.apply(lambda row: \n",
    "    geodesic((row['geo_lat'], row['geo_lon']), (venice[\"lat\"], venice[\"lon\"])).km \n",
    "    if not any(pd.isna([row['geo_lat'], row['geo_lon'], venice[\"lat\"], venice[\"lon\"]])) \n",
    "    else np.nan, axis=1)\n",
    "# remove duplicates\n",
    "raw_df = raw_df.drop_duplicates()"
   ]
  },
  {
   "cell_type": "markdown",
   "metadata": {},
   "source": [
    "## Exports"
   ]
  },
  {
   "cell_type": "markdown",
   "metadata": {},
   "source": [
    "### Keywords and Geography"
   ]
  },
  {
   "cell_type": "code",
   "execution_count": 7,
   "metadata": {},
   "outputs": [],
   "source": [
    "keyword_geo = raw_df[[\"primary_keywords\",\"geography_of_residence\",\"geo_lat\",\"geo_lon\"]].dropna().reset_index()\n",
    "\n",
    "# explode keywords into separate rows\n",
    "keyword_geo['primary_keywords'] = keyword_geo['primary_keywords'].str.split(',')  # Split on \", \"\n",
    "keyword_geo = keyword_geo.explode('primary_keywords')  # Expand into multiple rows\n",
    "# trim whitespace\n",
    "keyword_geo['primary_keywords'] = keyword_geo['primary_keywords'].str.strip().reset_index(drop=True)\n",
    "\n",
    "# group and count\n",
    "keyword_geo_grp = keyword_geo.groupby(['primary_keywords', 'geography_of_residence']).size().reset_index(name='count')\n",
    "\n",
    "# geocode values\n",
    "keyword_geo_grp[\"geo_lat\"] = keyword_geo_grp[\"geography_of_residence\"].map(country_to_lat)\n",
    "keyword_geo_grp[\"geo_lon\"] = keyword_geo_grp[\"geography_of_residence\"].map(country_to_long)\n",
    "\n",
    "# save files\n",
    "# keyword_geo.to_csv(\"./subset/keyword_geo.csv\")\n",
    "# keyword_geo_grp.to_csv(\"./subset/keyword_geo_grp.csv\")"
   ]
  },
  {
   "cell_type": "markdown",
   "metadata": {},
   "source": [
    "### Distance"
   ]
  },
  {
   "cell_type": "code",
   "execution_count": 8,
   "metadata": {},
   "outputs": [],
   "source": [
    "# distance\n",
    "distance = raw_df[[\"proposal_id\",\"project_title\",\"invited_as\",\"geography_of_residence\",\"distance_km\"]].dropna().reset_index()\n",
    "# distance.to_csv(\"./subset/distance.csv\")"
   ]
  },
  {
   "cell_type": "markdown",
   "metadata": {},
   "source": [
    "### Keywords and Perspectives"
   ]
  },
  {
   "cell_type": "code",
   "execution_count": 10,
   "metadata": {},
   "outputs": [],
   "source": [
    "keyword_perspective = raw_df[[\"primary_keywords\",\"personal_perspective\",]].dropna().reset_index()\n",
    "# explode keywords into separate rows\n",
    "keyword_perspective['primary_keywords'] = keyword_perspective['primary_keywords'].str.split(',')  # Split on \", \"\n",
    "keyword_perspective = keyword_perspective.explode('primary_keywords')  # Expand into multiple rows\n",
    "# trim whitespace\n",
    "keyword_perspective['primary_keywords'] = keyword_perspective['primary_keywords'].str.strip().reset_index(drop=True)\n",
    "\n",
    "# re-sort rows\n",
    "keyword_perspective = keyword_perspective[[\"personal_perspective\",\"primary_keywords\"]].dropna().reset_index()\n",
    "# explode personal perspective into separate rows\n",
    "keyword_perspective['personal_perspective'] = keyword_perspective['personal_perspective'].str.split(',')  # Split on \", \"\n",
    "keyword_perspective = keyword_perspective.explode('personal_perspective')  # Expand into multiple rows\n",
    "# trim whitespace\n",
    "keyword_perspective['personal_perspective'] = keyword_perspective['personal_perspective'].str.strip().reset_index(drop=True)\n",
    "\n",
    "# group and count\n",
    "keyword_perspective_grp = keyword_perspective.groupby(['personal_perspective', 'primary_keywords']).size().reset_index(name='count')\n",
    "perspective_keyword_grp = keyword_perspective.groupby(['primary_keywords', 'personal_perspective']).size().reset_index(name='count')\n",
    "\n",
    "# save files\n",
    "# keyword_perspective.to_csv(\"./subset/keyword_perspective.csv\")\n",
    "# keyword_perspective_grp.to_csv(\"./subset/keyword_perspective_grp.csv\")\n",
    "# perspective_keyword_grp.to_csv(\"./subset/perspective_keyword_grp.csv\")"
   ]
  },
  {
   "cell_type": "markdown",
   "metadata": {},
   "source": [
    "### Affiliation \n",
    "\n",
    "This is a rough guess based on text substrings. We could use someone to manually categorize these for an accurate account."
   ]
  },
  {
   "cell_type": "code",
   "execution_count": 11,
   "metadata": {},
   "outputs": [],
   "source": [
    "# affiliaiton\n",
    "affiliaiton = raw_df[[\"proposal_id\",\"project_title\",\"primary_affiliation\",\"primary_affiliation_link\",\"primary_keywords\",'personal_perspective','invited_as']].reset_index()\n",
    "affiliaiton.loc[affiliaiton['primary_affiliation_link'].str.contains('(?i).edu', na=False), 'affiliation_type'] = 'education'\n",
    "affiliaiton.loc[affiliaiton['primary_affiliation'].str.contains('(?i)univers|insti|school|politecnico|laboratory', na=False), 'affiliation_type'] = 'education'\n",
    "affiliaiton.loc[affiliaiton['primary_affiliation'].str.contains('(?i)independent|indi', na=False), 'affiliation_type'] = 'independent'\n",
    "affiliaiton.loc[affiliaiton['primary_affiliation'].str.contains('(?i)studio|archi|atelier|firm', na=False), 'affiliation_type'] = 'studio'\n",
    "\n",
    "# save files\n",
    "# affiliaiton.to_csv(\"./subset/affiliaiton.csv\")"
   ]
  },
  {
   "cell_type": "markdown",
   "metadata": {},
   "source": [
    "### Project Type"
   ]
  },
  {
   "cell_type": "code",
   "execution_count": 189,
   "metadata": {},
   "outputs": [],
   "source": [
    "# project type\n",
    "# raw_df[\"project_type\"]"
   ]
  },
  {
   "cell_type": "markdown",
   "metadata": {},
   "source": [
    "### Selections"
   ]
  },
  {
   "cell_type": "code",
   "execution_count": 190,
   "metadata": {},
   "outputs": [],
   "source": [
    "# id, stage_1, stage_2, stage_3, \n",
    "\n",
    "# selections\n",
    "# raw_df[\"stage_3_placement\"].value_counts()\n",
    "\n",
    "# X, Y, Z, Material Bank, Event\n",
    "#raw_df[\"invited_as\"].value_counts()\n",
    "\n",
    "# raw_df[\"review_status\"].value_counts()\n",
    "\n",
    "# raw_df[raw_df[\"review_status\"].str.contains(\"Duplicate\", case=False, na=False)]\n",
    "\n",
    "# need to explode on comma\n",
    "# raw_df[\"relevant_exhibition_section\"].value_counts()"
   ]
  },
  {
   "cell_type": "code",
   "execution_count": null,
   "metadata": {},
   "outputs": [],
   "source": []
  }
 ],
 "metadata": {
  "kernelspec": {
   "display_name": "threeeight",
   "language": "python",
   "name": "python3"
  },
  "language_info": {
   "codemirror_mode": {
    "name": "ipython",
    "version": 3
   },
   "file_extension": ".py",
   "mimetype": "text/x-python",
   "name": "python",
   "nbconvert_exporter": "python",
   "pygments_lexer": "ipython3",
   "version": "3.9.9"
  }
 },
 "nbformat": 4,
 "nbformat_minor": 2
}
